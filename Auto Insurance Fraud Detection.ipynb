{
 "cells": [
  {
   "cell_type": "markdown",
   "id": "194e3c8e",
   "metadata": {},
   "source": [
    "# Fraud Detection <a id=\"goback\"> </a>\n",
    "![title](git2.png)\n",
    "\n",
    "**Abstract:** <br>\n",
    "A large number of problems in data mining are related to fraud detection. Fraud is a common problem in auto insurance claims, health insurance claims, credit card transactions, financial transaction and so on. The data in this particular case comes from an actual auto insurance company. Each record represents an insurance claim. The last column in the table tells you whether the claim was fraudulent or not.\n",
    "\n",
    "There are two datasets (Excel Files) –\n",
    "1. Insurance Fraud – TRAIN-3000, and\n",
    "2. Insurance Fraud – TEST-12900.\n",
    "\n",
    "**Attribute Information: <br>\n",
    "Input variables:**\n",
    "1. MONTH: Jan through Dec.\n",
    "2. WEEKOFMONTH: Continuous – 1 through 5.\n",
    "3. DAYOFWEEK: Monday through Sunday.\n",
    "4. MAKE: Acura, BMW, Chevrolet, Dodge, Ford, Toyota, VW, Nissan, etc.\n",
    "5. ACCIDENTAREA: Urban, Rural.\n",
    "6. DAYOFWEEKCLAIMED: Monday through Friday.\n",
    "7. MONTHCLAIMED: Jan through Dec.\n",
    "8. WEEKOFMONTHCLAIMED: Continuous – 1 through 5.\n",
    "9. SEX: Male/Female.\n",
    "10. MARITALSTATUS: Married, Single, Divorced, Widow.\n",
    "11. AGE: continuous – 0 through 80.\n",
    "12. FAULT: Policy_Holder, Third_Party.\n",
    "13. POLICYTYPE: Sport-Collision, Sedan-All_Perils, Sedan-Collision, Sedan-Liability etc.\n",
    "14. VEHICLECATEGORY: Sport, Sedan, Utility, etc.\n",
    "15. VEHICLEPRICE: 20000_to_29000,30000_to_39000, 40000_to_59000 etc.\n",
    "16. REPNUMBER: Continuous – 1 through 16\n",
    "17. DEDUCTIBLE: Continuous – 300 through 700.\n",
    "18. DRIVERRATING: Continuous – 1 through 4.\n",
    "19. DAYS_POLICY_ACCIDENT: none, 1_to_7, 8_to_15, 15_to_30, more_than_30, etc.\n",
    "20. DAYS_POLICY_CLAIM: none, 1_to_7, 8_to_15, 15_to_30, more_than_30, etc.\n",
    "21. PASTNUMBEROFCLAIMS: none, 2_to_4, more_than_4, etc.\n",
    "22. AGEOFVEHICLE: new, 3_years, 4_years, 5_years, 6_years, 7_years, more_than_7, etc.\n",
    "23. AGEOFPOLICYHOLDER: 16_to_17, 21_to_25, 31_to_35, etc.\n",
    "24. POLICEREPORTFILED: Yes/No.\n",
    "25. WITNESSPRESENT: Yes/No.\n",
    "26. AGENTTYPE: Internal/External.\n",
    "27. NUMBEROFSUPPLIMENTS: none, 1_to_2, 3_to_5, more_than_5.\n",
    "28. ADDRESSCHANGE_CLAIM: no_change, under_6_months, 1_year, 2_to_3_years, etc.\n",
    "29. NUMBEROFCARS: 1_vehicle, 2_vehicles, 3_to_4 etc.\n",
    "30. YEAR: Continuous – 1994 through 1996.\n",
    "31. BASEPOLICY: Collison, All_Perils, Liability etc.\n",
    "\n",
    "**Output variable (desired target):** <br>\n",
    "32. FRAUDFOUND: Yes/No.\n",
    "\n",
    "#### References:  <br />\n",
    "- [SckitLearn Library](https://scikit-learn.org/stable/index.html) <br />\n",
    "- [Pandas Library : DataFrame](https://pandas.pydata.org/docs/reference/api/pandas.DataFrame.html) <br />\n",
    "\n",
    "**Index** \n",
    "- [Data Import](#importdata)\n",
    "- [Data Cleaning](#cleandata)\n",
    "- [Dealing with Categorical Data: OneHotEncoder](#encoding)\n",
    "- [Model Development](#model)\n",
    "- [Evaluating Default Models](#evaluate)\n",
    "- [Hyperparameter Tuning](#hyper)\n",
    "    - [Grid Search CV ](#grid)\n",
    "    - [Random Search CV](#random)\n",
    "- [Model Development with Grid/Random Search Parameters](#modeldev)"
   ]
  },
  {
   "cell_type": "code",
   "execution_count": 1,
   "id": "aa230cae",
   "metadata": {},
   "outputs": [],
   "source": [
    "# Libraries\n",
    "# Data Manipulation\n",
    "import numpy as np\n",
    "import pandas as pd\n",
    "\n",
    "# Machine Learning\n",
    "import sklearn\n",
    "from sklearn import metrics\n",
    "from sklearn.model_selection import train_test_split,RandomizedSearchCV,GridSearchCV,cross_val_score\n",
    "from sklearn.metrics import accuracy_score,confusion_matrix,classification_report\n",
    "from sklearn.tree import DecisionTreeClassifier\n",
    "from sklearn.ensemble import GradientBoostingClassifier,RandomForestClassifier\n",
    "from sklearn import preprocessing\n",
    "from sklearn.preprocessing import OneHotEncoder\n",
    "\n",
    "# Data Visualization\n",
    "import matplotlib\n",
    "import plotly.express as px\n",
    "import matplotlib.pyplot as plt \n",
    "import seaborn as sns\n",
    "\n",
    "# To remove warnings \n",
    "import warnings\n",
    "warnings.filterwarnings(\"ignore\")\n",
    "\n",
    "# Function to evaluate ML Model\n",
    "def evaluate_model(model,XTrain,YTrain,XTest,YTest):\n",
    "    #Training Prediction Accuracy\n",
    "    TrainPred=model.predict(XTrain)\n",
    "    Training_Acc_Score=metrics.accuracy_score(YTrain,TrainPred)\n",
    "    \n",
    "    #Testing Prediction Accuracy\n",
    "    PredY=model.predict(XTest)\n",
    "    Testing_Acc_Score=metrics.accuracy_score(YTest,PredY)\n",
    "    Testing_Class_Report=metrics.classification_report(YTest,PredY)\n",
    "    Testing_Confusion_Matrix=metrics.confusion_matrix(YTest,PredY)\n",
    "    \n",
    "    print(\"Training Data Accuracy:\",Training_Acc_Score,)\n",
    "    print()\n",
    "    print(\"Testing Data Accuracy:\\n\",Testing_Acc_Score,\n",
    "         \"\\nTesting_Class_Report:\\n\",Testing_Class_Report,\n",
    "         \"\\nTesting_Confusion_Matrix:\\n\",Testing_Confusion_Matrix)"
   ]
  },
  {
   "cell_type": "markdown",
   "id": "aa541d5d",
   "metadata": {},
   "source": [
    "## Import Datasets <a id=\"importdata\">"
   ]
  },
  {
   "cell_type": "code",
   "execution_count": 5,
   "id": "99200cfd",
   "metadata": {},
   "outputs": [
    {
     "data": {
      "text/html": [
       "<div>\n",
       "<style scoped>\n",
       "    .dataframe tbody tr th:only-of-type {\n",
       "        vertical-align: middle;\n",
       "    }\n",
       "\n",
       "    .dataframe tbody tr th {\n",
       "        vertical-align: top;\n",
       "    }\n",
       "\n",
       "    .dataframe thead th {\n",
       "        text-align: right;\n",
       "    }\n",
       "</style>\n",
       "<table border=\"1\" class=\"dataframe\">\n",
       "  <thead>\n",
       "    <tr style=\"text-align: right;\">\n",
       "      <th></th>\n",
       "      <th>MONTH</th>\n",
       "      <th>WEEKOFMONTH</th>\n",
       "      <th>DAYOFWEEK</th>\n",
       "      <th>MAKE</th>\n",
       "      <th>ACCIDENTAREA</th>\n",
       "      <th>DAYOFWEEKCLAIMED</th>\n",
       "      <th>MONTHCLAIMED</th>\n",
       "      <th>WEEKOFMONTHCLAIMED</th>\n",
       "      <th>SEX</th>\n",
       "      <th>MARITALSTATUS</th>\n",
       "      <th>...</th>\n",
       "      <th>AGEOFPOLICYHOLDER</th>\n",
       "      <th>POLICEREPORTFILED</th>\n",
       "      <th>WITNESSPRESENT</th>\n",
       "      <th>AGENTTYPE</th>\n",
       "      <th>NUMBEROFSUPPLIMENTS</th>\n",
       "      <th>ADDRESSCHANGE_CLAIM</th>\n",
       "      <th>NUMBEROFCARS</th>\n",
       "      <th>YEAR</th>\n",
       "      <th>BASEPOLICY</th>\n",
       "      <th>FRAUDFOUND</th>\n",
       "    </tr>\n",
       "  </thead>\n",
       "  <tbody>\n",
       "    <tr>\n",
       "      <th>0</th>\n",
       "      <td>Jul</td>\n",
       "      <td>3</td>\n",
       "      <td>Sunday</td>\n",
       "      <td>Honda</td>\n",
       "      <td>Rural</td>\n",
       "      <td>Wednesday</td>\n",
       "      <td>Jan</td>\n",
       "      <td>4</td>\n",
       "      <td>Male</td>\n",
       "      <td>Married</td>\n",
       "      <td>...</td>\n",
       "      <td>26_to_30</td>\n",
       "      <td>No</td>\n",
       "      <td>No</td>\n",
       "      <td>External</td>\n",
       "      <td>3_to_5</td>\n",
       "      <td>no_change</td>\n",
       "      <td>1-vehicle</td>\n",
       "      <td>1994</td>\n",
       "      <td>Collision</td>\n",
       "      <td>Yes</td>\n",
       "    </tr>\n",
       "    <tr>\n",
       "      <th>1</th>\n",
       "      <td>Nov</td>\n",
       "      <td>5</td>\n",
       "      <td>Monday</td>\n",
       "      <td>Mazda</td>\n",
       "      <td>Urban</td>\n",
       "      <td>Wednesday</td>\n",
       "      <td>Dec</td>\n",
       "      <td>1</td>\n",
       "      <td>Male</td>\n",
       "      <td>Single</td>\n",
       "      <td>...</td>\n",
       "      <td>over_65</td>\n",
       "      <td>No</td>\n",
       "      <td>No</td>\n",
       "      <td>External</td>\n",
       "      <td>none</td>\n",
       "      <td>no_change</td>\n",
       "      <td>1-vehicle</td>\n",
       "      <td>1994</td>\n",
       "      <td>All_Perils</td>\n",
       "      <td>Yes</td>\n",
       "    </tr>\n",
       "    <tr>\n",
       "      <th>2</th>\n",
       "      <td>Jan</td>\n",
       "      <td>1</td>\n",
       "      <td>Monday</td>\n",
       "      <td>Pontiac</td>\n",
       "      <td>Urban</td>\n",
       "      <td>Wednesday</td>\n",
       "      <td>Jan</td>\n",
       "      <td>1</td>\n",
       "      <td>Male</td>\n",
       "      <td>Married</td>\n",
       "      <td>...</td>\n",
       "      <td>41_to_50</td>\n",
       "      <td>No</td>\n",
       "      <td>No</td>\n",
       "      <td>External</td>\n",
       "      <td>none</td>\n",
       "      <td>under_6_months</td>\n",
       "      <td>1-vehicle</td>\n",
       "      <td>1994</td>\n",
       "      <td>All_Perils</td>\n",
       "      <td>Yes</td>\n",
       "    </tr>\n",
       "    <tr>\n",
       "      <th>3</th>\n",
       "      <td>Dec</td>\n",
       "      <td>1</td>\n",
       "      <td>Monday</td>\n",
       "      <td>Toyota</td>\n",
       "      <td>Rural</td>\n",
       "      <td>Tuesday</td>\n",
       "      <td>May</td>\n",
       "      <td>3</td>\n",
       "      <td>Male</td>\n",
       "      <td>Married</td>\n",
       "      <td>...</td>\n",
       "      <td>36_to_40</td>\n",
       "      <td>No</td>\n",
       "      <td>No</td>\n",
       "      <td>External</td>\n",
       "      <td>more_than_5</td>\n",
       "      <td>under_6_months</td>\n",
       "      <td>2-vehicles</td>\n",
       "      <td>1994</td>\n",
       "      <td>All_Perils</td>\n",
       "      <td>Yes</td>\n",
       "    </tr>\n",
       "    <tr>\n",
       "      <th>4</th>\n",
       "      <td>Dec</td>\n",
       "      <td>5</td>\n",
       "      <td>Wednesday</td>\n",
       "      <td>Pontiac</td>\n",
       "      <td>Urban</td>\n",
       "      <td>Wednesday</td>\n",
       "      <td>Jan</td>\n",
       "      <td>1</td>\n",
       "      <td>Male</td>\n",
       "      <td>Single</td>\n",
       "      <td>...</td>\n",
       "      <td>36_to_40</td>\n",
       "      <td>No</td>\n",
       "      <td>No</td>\n",
       "      <td>External</td>\n",
       "      <td>more_than_5</td>\n",
       "      <td>no_change</td>\n",
       "      <td>1-vehicle</td>\n",
       "      <td>1994</td>\n",
       "      <td>Collision</td>\n",
       "      <td>Yes</td>\n",
       "    </tr>\n",
       "  </tbody>\n",
       "</table>\n",
       "<p>5 rows × 32 columns</p>\n",
       "</div>"
      ],
      "text/plain": [
       "  MONTH  WEEKOFMONTH  DAYOFWEEK     MAKE ACCIDENTAREA DAYOFWEEKCLAIMED  \\\n",
       "0   Jul            3     Sunday    Honda        Rural        Wednesday   \n",
       "1   Nov            5     Monday    Mazda        Urban        Wednesday   \n",
       "2   Jan            1     Monday  Pontiac        Urban        Wednesday   \n",
       "3   Dec            1     Monday   Toyota        Rural          Tuesday   \n",
       "4   Dec            5  Wednesday  Pontiac        Urban        Wednesday   \n",
       "\n",
       "  MONTHCLAIMED  WEEKOFMONTHCLAIMED   SEX MARITALSTATUS  ...  \\\n",
       "0          Jan                   4  Male       Married  ...   \n",
       "1          Dec                   1  Male        Single  ...   \n",
       "2          Jan                   1  Male       Married  ...   \n",
       "3          May                   3  Male       Married  ...   \n",
       "4          Jan                   1  Male        Single  ...   \n",
       "\n",
       "   AGEOFPOLICYHOLDER POLICEREPORTFILED WITNESSPRESENT AGENTTYPE  \\\n",
       "0           26_to_30                No             No  External   \n",
       "1            over_65                No             No  External   \n",
       "2           41_to_50                No             No  External   \n",
       "3           36_to_40                No             No  External   \n",
       "4           36_to_40                No             No  External   \n",
       "\n",
       "  NUMBEROFSUPPLIMENTS  ADDRESSCHANGE_CLAIM  NUMBEROFCARS  YEAR  BASEPOLICY  \\\n",
       "0              3_to_5            no_change     1-vehicle  1994   Collision   \n",
       "1                none            no_change     1-vehicle  1994  All_Perils   \n",
       "2                none       under_6_months     1-vehicle  1994  All_Perils   \n",
       "3         more_than_5       under_6_months    2-vehicles  1994  All_Perils   \n",
       "4         more_than_5            no_change     1-vehicle  1994   Collision   \n",
       "\n",
       "  FRAUDFOUND  \n",
       "0        Yes  \n",
       "1        Yes  \n",
       "2        Yes  \n",
       "3        Yes  \n",
       "4        Yes  \n",
       "\n",
       "[5 rows x 32 columns]"
      ]
     },
     "execution_count": 5,
     "metadata": {},
     "output_type": "execute_result"
    }
   ],
   "source": [
    "Train_csv_loc=r\"Data/Insurance Fraud - TRAIN-3000.csv\"\n",
    "Test_csv_loc=r\"Data/Insurance Fraud -TEST-12900.csv\"\n",
    "\n",
    "Train_df=pd.read_csv(Train_csv_loc)\n",
    "Test_df=pd.read_csv(Test_csv_loc)\n",
    "\n",
    "Train_df.head()"
   ]
  },
  {
   "cell_type": "code",
   "execution_count": 6,
   "id": "823cbcb4",
   "metadata": {},
   "outputs": [
    {
     "data": {
      "text/html": [
       "<div>\n",
       "<style scoped>\n",
       "    .dataframe tbody tr th:only-of-type {\n",
       "        vertical-align: middle;\n",
       "    }\n",
       "\n",
       "    .dataframe tbody tr th {\n",
       "        vertical-align: top;\n",
       "    }\n",
       "\n",
       "    .dataframe thead th {\n",
       "        text-align: right;\n",
       "    }\n",
       "</style>\n",
       "<table border=\"1\" class=\"dataframe\">\n",
       "  <thead>\n",
       "    <tr style=\"text-align: right;\">\n",
       "      <th></th>\n",
       "      <th>MONTH</th>\n",
       "      <th>WEEKOFMONTH</th>\n",
       "      <th>DAYOFWEEK</th>\n",
       "      <th>MAKE</th>\n",
       "      <th>ACCIDENTAREA</th>\n",
       "      <th>DAYOFWEEKCLAIMED</th>\n",
       "      <th>MONTHCLAIMED</th>\n",
       "      <th>WEEKOFMONTHCLAIMED</th>\n",
       "      <th>SEX</th>\n",
       "      <th>MARITALSTATUS</th>\n",
       "      <th>...</th>\n",
       "      <th>AGEOFPOLICYHOLDER</th>\n",
       "      <th>POLICEREPORTFILED</th>\n",
       "      <th>WITNESSPRESENT</th>\n",
       "      <th>AGENTTYPE</th>\n",
       "      <th>NUMBEROFSUPPLIMENTS</th>\n",
       "      <th>ADDRESSCHANGE_CLAIM</th>\n",
       "      <th>NUMBEROFCARS</th>\n",
       "      <th>YEAR</th>\n",
       "      <th>BASEPOLICY</th>\n",
       "      <th>FRAUDFOUND</th>\n",
       "    </tr>\n",
       "  </thead>\n",
       "  <tbody>\n",
       "    <tr>\n",
       "      <th>0</th>\n",
       "      <td>Jul</td>\n",
       "      <td>3</td>\n",
       "      <td>Sunday</td>\n",
       "      <td>Honda</td>\n",
       "      <td>Rural</td>\n",
       "      <td>Wednesday</td>\n",
       "      <td>Jan</td>\n",
       "      <td>4</td>\n",
       "      <td>Male</td>\n",
       "      <td>Married</td>\n",
       "      <td>...</td>\n",
       "      <td>26_to_30</td>\n",
       "      <td>No</td>\n",
       "      <td>No</td>\n",
       "      <td>External</td>\n",
       "      <td>3_to_5</td>\n",
       "      <td>no_change</td>\n",
       "      <td>1-vehicle</td>\n",
       "      <td>1994</td>\n",
       "      <td>Collision</td>\n",
       "      <td>Yes</td>\n",
       "    </tr>\n",
       "    <tr>\n",
       "      <th>1</th>\n",
       "      <td>Nov</td>\n",
       "      <td>5</td>\n",
       "      <td>Monday</td>\n",
       "      <td>Mazda</td>\n",
       "      <td>Urban</td>\n",
       "      <td>Wednesday</td>\n",
       "      <td>Dec</td>\n",
       "      <td>1</td>\n",
       "      <td>Male</td>\n",
       "      <td>Single</td>\n",
       "      <td>...</td>\n",
       "      <td>over_65</td>\n",
       "      <td>No</td>\n",
       "      <td>No</td>\n",
       "      <td>External</td>\n",
       "      <td>none</td>\n",
       "      <td>no_change</td>\n",
       "      <td>1-vehicle</td>\n",
       "      <td>1994</td>\n",
       "      <td>All_Perils</td>\n",
       "      <td>Yes</td>\n",
       "    </tr>\n",
       "    <tr>\n",
       "      <th>2</th>\n",
       "      <td>Jan</td>\n",
       "      <td>1</td>\n",
       "      <td>Monday</td>\n",
       "      <td>Pontiac</td>\n",
       "      <td>Urban</td>\n",
       "      <td>Wednesday</td>\n",
       "      <td>Jan</td>\n",
       "      <td>1</td>\n",
       "      <td>Male</td>\n",
       "      <td>Married</td>\n",
       "      <td>...</td>\n",
       "      <td>41_to_50</td>\n",
       "      <td>No</td>\n",
       "      <td>No</td>\n",
       "      <td>External</td>\n",
       "      <td>none</td>\n",
       "      <td>under_6_months</td>\n",
       "      <td>1-vehicle</td>\n",
       "      <td>1994</td>\n",
       "      <td>All_Perils</td>\n",
       "      <td>Yes</td>\n",
       "    </tr>\n",
       "    <tr>\n",
       "      <th>3</th>\n",
       "      <td>Dec</td>\n",
       "      <td>1</td>\n",
       "      <td>Monday</td>\n",
       "      <td>Toyota</td>\n",
       "      <td>Rural</td>\n",
       "      <td>Tuesday</td>\n",
       "      <td>May</td>\n",
       "      <td>3</td>\n",
       "      <td>Male</td>\n",
       "      <td>Married</td>\n",
       "      <td>...</td>\n",
       "      <td>36_to_40</td>\n",
       "      <td>No</td>\n",
       "      <td>No</td>\n",
       "      <td>External</td>\n",
       "      <td>more_than_5</td>\n",
       "      <td>under_6_months</td>\n",
       "      <td>2-vehicles</td>\n",
       "      <td>1994</td>\n",
       "      <td>All_Perils</td>\n",
       "      <td>Yes</td>\n",
       "    </tr>\n",
       "    <tr>\n",
       "      <th>4</th>\n",
       "      <td>Dec</td>\n",
       "      <td>5</td>\n",
       "      <td>Wednesday</td>\n",
       "      <td>Pontiac</td>\n",
       "      <td>Urban</td>\n",
       "      <td>Wednesday</td>\n",
       "      <td>Jan</td>\n",
       "      <td>1</td>\n",
       "      <td>Male</td>\n",
       "      <td>Single</td>\n",
       "      <td>...</td>\n",
       "      <td>36_to_40</td>\n",
       "      <td>No</td>\n",
       "      <td>No</td>\n",
       "      <td>External</td>\n",
       "      <td>more_than_5</td>\n",
       "      <td>no_change</td>\n",
       "      <td>1-vehicle</td>\n",
       "      <td>1994</td>\n",
       "      <td>Collision</td>\n",
       "      <td>Yes</td>\n",
       "    </tr>\n",
       "  </tbody>\n",
       "</table>\n",
       "<p>5 rows × 32 columns</p>\n",
       "</div>"
      ],
      "text/plain": [
       "  MONTH  WEEKOFMONTH  DAYOFWEEK     MAKE ACCIDENTAREA DAYOFWEEKCLAIMED  \\\n",
       "0   Jul            3     Sunday    Honda        Rural        Wednesday   \n",
       "1   Nov            5     Monday    Mazda        Urban        Wednesday   \n",
       "2   Jan            1     Monday  Pontiac        Urban        Wednesday   \n",
       "3   Dec            1     Monday   Toyota        Rural          Tuesday   \n",
       "4   Dec            5  Wednesday  Pontiac        Urban        Wednesday   \n",
       "\n",
       "  MONTHCLAIMED  WEEKOFMONTHCLAIMED   SEX MARITALSTATUS  ...  \\\n",
       "0          Jan                   4  Male       Married  ...   \n",
       "1          Dec                   1  Male        Single  ...   \n",
       "2          Jan                   1  Male       Married  ...   \n",
       "3          May                   3  Male       Married  ...   \n",
       "4          Jan                   1  Male        Single  ...   \n",
       "\n",
       "   AGEOFPOLICYHOLDER POLICEREPORTFILED WITNESSPRESENT AGENTTYPE  \\\n",
       "0           26_to_30                No             No  External   \n",
       "1            over_65                No             No  External   \n",
       "2           41_to_50                No             No  External   \n",
       "3           36_to_40                No             No  External   \n",
       "4           36_to_40                No             No  External   \n",
       "\n",
       "  NUMBEROFSUPPLIMENTS  ADDRESSCHANGE_CLAIM  NUMBEROFCARS  YEAR  BASEPOLICY  \\\n",
       "0              3_to_5            no_change     1-vehicle  1994   Collision   \n",
       "1                none            no_change     1-vehicle  1994  All_Perils   \n",
       "2                none       under_6_months     1-vehicle  1994  All_Perils   \n",
       "3         more_than_5       under_6_months    2-vehicles  1994  All_Perils   \n",
       "4         more_than_5            no_change     1-vehicle  1994   Collision   \n",
       "\n",
       "  FRAUDFOUND  \n",
       "0        Yes  \n",
       "1        Yes  \n",
       "2        Yes  \n",
       "3        Yes  \n",
       "4        Yes  \n",
       "\n",
       "[5 rows x 32 columns]"
      ]
     },
     "execution_count": 6,
     "metadata": {},
     "output_type": "execute_result"
    }
   ],
   "source": [
    "Test_df.head()"
   ]
  },
  {
   "cell_type": "code",
   "execution_count": 7,
   "id": "9925a9de",
   "metadata": {},
   "outputs": [
    {
     "name": "stdout",
     "output_type": "stream",
     "text": [
      "Size of Training data: (2999, 32) \n",
      "Size of Testing data: (12918, 32)\n"
     ]
    }
   ],
   "source": [
    "print(\"Size of Training data:\",Train_df.shape,\"\\n\"\n",
    "      \"Size of Testing data:\",Test_df.shape)"
   ]
  },
  {
   "cell_type": "code",
   "execution_count": 8,
   "id": "61483530",
   "metadata": {},
   "outputs": [
    {
     "name": "stdout",
     "output_type": "stream",
     "text": [
      "<class 'pandas.core.frame.DataFrame'>\n",
      "RangeIndex: 2999 entries, 0 to 2998\n",
      "Data columns (total 32 columns):\n",
      " #   Column                Non-Null Count  Dtype \n",
      "---  ------                --------------  ----- \n",
      " 0   MONTH                 2999 non-null   object\n",
      " 1   WEEKOFMONTH           2999 non-null   int64 \n",
      " 2   DAYOFWEEK             2999 non-null   object\n",
      " 3   MAKE                  2999 non-null   object\n",
      " 4   ACCIDENTAREA          2999 non-null   object\n",
      " 5   DAYOFWEEKCLAIMED      2999 non-null   object\n",
      " 6   MONTHCLAIMED          2999 non-null   object\n",
      " 7   WEEKOFMONTHCLAIMED    2999 non-null   int64 \n",
      " 8   SEX                   2999 non-null   object\n",
      " 9   MARITALSTATUS         2999 non-null   object\n",
      " 10  AGE                   2999 non-null   int64 \n",
      " 11  FAULT                 2999 non-null   object\n",
      " 12  POLICYTYPE            2999 non-null   object\n",
      " 13  VEHICLECATEGORY       2999 non-null   object\n",
      " 14  VEHICLEPRICE          2999 non-null   object\n",
      " 15  REPNUMBER             2999 non-null   int64 \n",
      " 16  DEDUCTIBLE            2999 non-null   int64 \n",
      " 17  DRIVERRATING          2999 non-null   int64 \n",
      " 18  DAYS_POLICY_ACCIDENT  2999 non-null   object\n",
      " 19  DAYS_POLICY_CLAIM     2999 non-null   object\n",
      " 20  PASTNUMBEROFCLAIMS    2999 non-null   object\n",
      " 21  AGEOFVEHICLE          2999 non-null   object\n",
      " 22  AGEOFPOLICYHOLDER     2999 non-null   object\n",
      " 23  POLICEREPORTFILED     2999 non-null   object\n",
      " 24  WITNESSPRESENT        2999 non-null   object\n",
      " 25  AGENTTYPE             2999 non-null   object\n",
      " 26  NUMBEROFSUPPLIMENTS   2999 non-null   object\n",
      " 27  ADDRESSCHANGE_CLAIM   2999 non-null   object\n",
      " 28  NUMBEROFCARS          2999 non-null   object\n",
      " 29  YEAR                  2999 non-null   int64 \n",
      " 30  BASEPOLICY            2999 non-null   object\n",
      " 31  FRAUDFOUND            2999 non-null   object\n",
      "dtypes: int64(7), object(25)\n",
      "memory usage: 749.9+ KB\n"
     ]
    }
   ],
   "source": [
    "Train_df.info()\n",
    "# Test_df.info()"
   ]
  },
  {
   "cell_type": "code",
   "execution_count": 30,
   "id": "04fee3b9",
   "metadata": {},
   "outputs": [],
   "source": [
    "# sns.heatmap(Train_df.corr(),annot=True)"
   ]
  },
  {
   "cell_type": "code",
   "execution_count": 6,
   "id": "48e9d97d",
   "metadata": {},
   "outputs": [
    {
     "data": {
      "text/html": [
       "<div>\n",
       "<style scoped>\n",
       "    .dataframe tbody tr th:only-of-type {\n",
       "        vertical-align: middle;\n",
       "    }\n",
       "\n",
       "    .dataframe tbody tr th {\n",
       "        vertical-align: top;\n",
       "    }\n",
       "\n",
       "    .dataframe thead th {\n",
       "        text-align: right;\n",
       "    }\n",
       "</style>\n",
       "<table border=\"1\" class=\"dataframe\">\n",
       "  <thead>\n",
       "    <tr style=\"text-align: right;\">\n",
       "      <th></th>\n",
       "      <th>WEEKOFMONTH</th>\n",
       "      <th>WEEKOFMONTHCLAIMED</th>\n",
       "      <th>AGE</th>\n",
       "      <th>REPNUMBER</th>\n",
       "      <th>DEDUCTIBLE</th>\n",
       "      <th>DRIVERRATING</th>\n",
       "      <th>YEAR</th>\n",
       "    </tr>\n",
       "  </thead>\n",
       "  <tbody>\n",
       "    <tr>\n",
       "      <th>count</th>\n",
       "      <td>2999.000000</td>\n",
       "      <td>2999.000000</td>\n",
       "      <td>2999.000000</td>\n",
       "      <td>2999.000000</td>\n",
       "      <td>2999.000000</td>\n",
       "      <td>2999.000000</td>\n",
       "      <td>2999.000000</td>\n",
       "    </tr>\n",
       "    <tr>\n",
       "      <th>mean</th>\n",
       "      <td>2.781260</td>\n",
       "      <td>2.671224</td>\n",
       "      <td>40.055352</td>\n",
       "      <td>8.511837</td>\n",
       "      <td>407.302434</td>\n",
       "      <td>2.496832</td>\n",
       "      <td>1995.114038</td>\n",
       "    </tr>\n",
       "    <tr>\n",
       "      <th>std</th>\n",
       "      <td>1.286055</td>\n",
       "      <td>1.261614</td>\n",
       "      <td>13.497026</td>\n",
       "      <td>4.601437</td>\n",
       "      <td>41.847258</td>\n",
       "      <td>1.118365</td>\n",
       "      <td>0.606007</td>\n",
       "    </tr>\n",
       "    <tr>\n",
       "      <th>min</th>\n",
       "      <td>1.000000</td>\n",
       "      <td>1.000000</td>\n",
       "      <td>0.000000</td>\n",
       "      <td>1.000000</td>\n",
       "      <td>300.000000</td>\n",
       "      <td>1.000000</td>\n",
       "      <td>1994.000000</td>\n",
       "    </tr>\n",
       "    <tr>\n",
       "      <th>25%</th>\n",
       "      <td>2.000000</td>\n",
       "      <td>2.000000</td>\n",
       "      <td>31.000000</td>\n",
       "      <td>4.000000</td>\n",
       "      <td>400.000000</td>\n",
       "      <td>1.000000</td>\n",
       "      <td>1995.000000</td>\n",
       "    </tr>\n",
       "    <tr>\n",
       "      <th>50%</th>\n",
       "      <td>3.000000</td>\n",
       "      <td>3.000000</td>\n",
       "      <td>38.000000</td>\n",
       "      <td>9.000000</td>\n",
       "      <td>400.000000</td>\n",
       "      <td>2.000000</td>\n",
       "      <td>1995.000000</td>\n",
       "    </tr>\n",
       "    <tr>\n",
       "      <th>75%</th>\n",
       "      <td>4.000000</td>\n",
       "      <td>4.000000</td>\n",
       "      <td>49.000000</td>\n",
       "      <td>12.000000</td>\n",
       "      <td>400.000000</td>\n",
       "      <td>3.000000</td>\n",
       "      <td>1995.000000</td>\n",
       "    </tr>\n",
       "    <tr>\n",
       "      <th>max</th>\n",
       "      <td>5.000000</td>\n",
       "      <td>5.000000</td>\n",
       "      <td>80.000000</td>\n",
       "      <td>16.000000</td>\n",
       "      <td>700.000000</td>\n",
       "      <td>4.000000</td>\n",
       "      <td>1996.000000</td>\n",
       "    </tr>\n",
       "  </tbody>\n",
       "</table>\n",
       "</div>"
      ],
      "text/plain": [
       "       WEEKOFMONTH  WEEKOFMONTHCLAIMED          AGE    REPNUMBER   DEDUCTIBLE  \\\n",
       "count  2999.000000         2999.000000  2999.000000  2999.000000  2999.000000   \n",
       "mean      2.781260            2.671224    40.055352     8.511837   407.302434   \n",
       "std       1.286055            1.261614    13.497026     4.601437    41.847258   \n",
       "min       1.000000            1.000000     0.000000     1.000000   300.000000   \n",
       "25%       2.000000            2.000000    31.000000     4.000000   400.000000   \n",
       "50%       3.000000            3.000000    38.000000     9.000000   400.000000   \n",
       "75%       4.000000            4.000000    49.000000    12.000000   400.000000   \n",
       "max       5.000000            5.000000    80.000000    16.000000   700.000000   \n",
       "\n",
       "       DRIVERRATING         YEAR  \n",
       "count   2999.000000  2999.000000  \n",
       "mean       2.496832  1995.114038  \n",
       "std        1.118365     0.606007  \n",
       "min        1.000000  1994.000000  \n",
       "25%        1.000000  1995.000000  \n",
       "50%        2.000000  1995.000000  \n",
       "75%        3.000000  1995.000000  \n",
       "max        4.000000  1996.000000  "
      ]
     },
     "execution_count": 6,
     "metadata": {},
     "output_type": "execute_result"
    }
   ],
   "source": [
    "Train_df.describe()"
   ]
  },
  {
   "cell_type": "code",
   "execution_count": 7,
   "id": "fd66db42",
   "metadata": {},
   "outputs": [
    {
     "data": {
      "text/plain": [
       "No     86.695565\n",
       "Yes    13.304435\n",
       "Name: FRAUDFOUND, dtype: float64"
      ]
     },
     "execution_count": 7,
     "metadata": {},
     "output_type": "execute_result"
    }
   ],
   "source": [
    "Train_df[\"FRAUDFOUND\"].value_counts(normalize=True)*100"
   ]
  },
  {
   "cell_type": "markdown",
   "id": "eeab772e",
   "metadata": {},
   "source": [
    "[Go Back](#goback)"
   ]
  },
  {
   "cell_type": "markdown",
   "id": "d88c63dc",
   "metadata": {},
   "source": [
    "## Data Cleaning <a id=\"cleandata\">"
   ]
  },
  {
   "cell_type": "code",
   "execution_count": 6,
   "id": "4a82437b",
   "metadata": {},
   "outputs": [
    {
     "data": {
      "text/plain": [
       "(2999, 32)"
      ]
     },
     "execution_count": 6,
     "metadata": {},
     "output_type": "execute_result"
    }
   ],
   "source": [
    "#Data Cleaning\n",
    "Train_df.shape"
   ]
  },
  {
   "cell_type": "code",
   "execution_count": 7,
   "id": "9fc64aec",
   "metadata": {},
   "outputs": [
    {
     "data": {
      "text/plain": [
       "(2999, 32)"
      ]
     },
     "execution_count": 7,
     "metadata": {},
     "output_type": "execute_result"
    }
   ],
   "source": [
    "#Drop Duplicate Rows\n",
    "# Train_df.shape\n",
    "Train_df.drop_duplicates()\n",
    "Train_df.shape"
   ]
  },
  {
   "cell_type": "code",
   "execution_count": 8,
   "id": "121d073d",
   "metadata": {},
   "outputs": [
    {
     "data": {
      "text/plain": [
       "MONTH                   0\n",
       "YEAR                    0\n",
       "NUMBEROFCARS            0\n",
       "ADDRESSCHANGE_CLAIM     0\n",
       "NUMBEROFSUPPLIMENTS     0\n",
       "AGENTTYPE               0\n",
       "WITNESSPRESENT          0\n",
       "POLICEREPORTFILED       0\n",
       "AGEOFPOLICYHOLDER       0\n",
       "AGEOFVEHICLE            0\n",
       "PASTNUMBEROFCLAIMS      0\n",
       "DAYS_POLICY_CLAIM       0\n",
       "DAYS_POLICY_ACCIDENT    0\n",
       "DRIVERRATING            0\n",
       "DEDUCTIBLE              0\n",
       "REPNUMBER               0\n",
       "VEHICLEPRICE            0\n",
       "VEHICLECATEGORY         0\n",
       "POLICYTYPE              0\n",
       "FAULT                   0\n",
       "AGE                     0\n",
       "MARITALSTATUS           0\n",
       "SEX                     0\n",
       "WEEKOFMONTHCLAIMED      0\n",
       "MONTHCLAIMED            0\n",
       "DAYOFWEEKCLAIMED        0\n",
       "ACCIDENTAREA            0\n",
       "MAKE                    0\n",
       "DAYOFWEEK               0\n",
       "WEEKOFMONTH             0\n",
       "BASEPOLICY              0\n",
       "FRAUDFOUND              0\n",
       "dtype: int64"
      ]
     },
     "execution_count": 8,
     "metadata": {},
     "output_type": "execute_result"
    }
   ],
   "source": [
    "# Null values check\n",
    "Train_df.isnull().sum().sort_values(ascending=True)"
   ]
  },
  {
   "cell_type": "markdown",
   "id": "4e55dc1c",
   "metadata": {},
   "source": [
    "[Go Back](#goback)"
   ]
  },
  {
   "cell_type": "markdown",
   "id": "18f5dbeb",
   "metadata": {},
   "source": [
    "## Dealing with categorical data points <a id=\"encoding\">"
   ]
  },
  {
   "cell_type": "code",
   "execution_count": 8,
   "id": "faf34137",
   "metadata": {},
   "outputs": [
    {
     "name": "stdout",
     "output_type": "stream",
     "text": [
      "(2999, 132) (12918, 132) (2999, 32) (12918, 32)\n"
     ]
    }
   ],
   "source": [
    "list(Train_df.columns.values)\n",
    "# CategoricalVariables=['MONTH']\n",
    "CategoricalVariables=['MONTH', 'DAYOFWEEK', 'MAKE', 'ACCIDENTAREA', 'DAYOFWEEKCLAIMED',\n",
    "                      'MONTHCLAIMED', 'SEX', 'MARITALSTATUS', 'FAULT', 'POLICYTYPE', \n",
    "                      'VEHICLECATEGORY', 'VEHICLEPRICE', 'DAYS_POLICY_ACCIDENT', \n",
    "                      'DAYS_POLICY_CLAIM', 'PASTNUMBEROFCLAIMS', 'AGEOFVEHICLE', \n",
    "                      'AGEOFPOLICYHOLDER', 'POLICEREPORTFILED', 'WITNESSPRESENT', 'AGENTTYPE',\n",
    "                      'NUMBEROFSUPPLIMENTS', 'ADDRESSCHANGE_CLAIM', 'NUMBEROFCARS', 'BASEPOLICY']\n",
    "# OneHotEncoding\n",
    "Encoding1=OneHotEncoder(sparse=False,handle_unknown='ignore')\n",
    "# output=Encoding1.fit_transform(Train_df[CategoricalVariables])\n",
    "# output2=Encoding1.fit_transform(Test_df[CategoricalVariables])\n",
    "\n",
    "output=pd.DataFrame(Encoding1.fit_transform(Train_df[CategoricalVariables]),\n",
    "                    columns=Encoding1.get_feature_names_out(),\n",
    "                    index=Train_df.index)\n",
    "# output2=pd.DataFrame(Encoding1.fit_transform(Test_df[CategoricalVariables]),\n",
    "#                      columns=Encoding1.get_feature_names_out(),\n",
    "#                      index=Test_df.index)\n",
    "output2=pd.DataFrame(Encoding1.transform(Test_df[CategoricalVariables]),\n",
    "                     columns=Encoding1.get_feature_names_out(),\n",
    "                     index=Test_df.index)\n",
    "# Encoding1.get_feature_names_out()\n",
    "print(output.shape,output2.shape,Train_df.shape,Test_df.shape)\n",
    "\n",
    "Encoded_Train_df=pd.concat([Train_df,output],axis=1)\n",
    "Encoded_Test_df=pd.concat([Test_df,output2],axis=1)\n",
    "\n",
    "Mismatch_Columns=list(set(output2.columns)-set(output.columns))\n",
    "\n",
    "#Add these columns to Train Dataset\n",
    "# Encoded_Train_df[Mismatch_Columns]=0"
   ]
  },
  {
   "cell_type": "code",
   "execution_count": 9,
   "id": "febcf1e8",
   "metadata": {},
   "outputs": [
    {
     "name": "stdout",
     "output_type": "stream",
     "text": [
      "[]\n"
     ]
    }
   ],
   "source": [
    "# Validating if before encoding and after encoding datasets have same shape for Training & Testing datasets\n",
    "Mismatch_Columns=list(set(output2.columns)-set(output.columns))\n",
    "print(Mismatch_Columns)"
   ]
  },
  {
   "cell_type": "code",
   "execution_count": 10,
   "id": "2200d620",
   "metadata": {},
   "outputs": [
    {
     "name": "stdout",
     "output_type": "stream",
     "text": [
      "(2999, 164) (12918, 164)\n"
     ]
    }
   ],
   "source": [
    "print(Encoded_Train_df.shape,Encoded_Test_df.shape)\n",
    "# Successfully columns are same"
   ]
  },
  {
   "cell_type": "code",
   "execution_count": 11,
   "id": "06501eed",
   "metadata": {},
   "outputs": [
    {
     "name": "stdout",
     "output_type": "stream",
     "text": [
      "(2999, 140) (12918, 140)\n"
     ]
    }
   ],
   "source": [
    "# Remove Categorical Variables as Encoded dataset added\n",
    "Encoded_Train_df=Encoded_Train_df.drop(columns=CategoricalVariables)\n",
    "Encoded_Test_df=Encoded_Test_df.drop(columns=CategoricalVariables)\n",
    "print(Encoded_Train_df.shape,Encoded_Test_df.shape)"
   ]
  },
  {
   "cell_type": "markdown",
   "id": "b882159b",
   "metadata": {},
   "source": [
    "[Go Back](#goback)"
   ]
  },
  {
   "cell_type": "markdown",
   "id": "cb604e9f",
   "metadata": {},
   "source": [
    "## Model Development <a id=\"model\">"
   ]
  },
  {
   "cell_type": "code",
   "execution_count": 12,
   "id": "b8b567b3",
   "metadata": {},
   "outputs": [],
   "source": [
    "# #Train test Split\n",
    "# XTrain,XTest,YTrain,YTest=train_test_split(TrainX,TrainY,test_size=0.3)\n",
    "\n",
    "#Dividing Dataset into Training and Testing Data\n",
    "TrainX=Encoded_Train_df.drop(columns=\"FRAUDFOUND\").copy()\n",
    "TrainY=Encoded_Train_df[\"FRAUDFOUND\"].copy()\n",
    "\n",
    "TestX=Encoded_Test_df.drop(columns=\"FRAUDFOUND\").copy()\n",
    "TestY=Encoded_Test_df[\"FRAUDFOUND\"].copy()"
   ]
  },
  {
   "cell_type": "code",
   "execution_count": 13,
   "id": "fc377140",
   "metadata": {},
   "outputs": [
    {
     "data": {
      "text/html": [
       "<style>#sk-container-id-1 {color: black;background-color: white;}#sk-container-id-1 pre{padding: 0;}#sk-container-id-1 div.sk-toggleable {background-color: white;}#sk-container-id-1 label.sk-toggleable__label {cursor: pointer;display: block;width: 100%;margin-bottom: 0;padding: 0.3em;box-sizing: border-box;text-align: center;}#sk-container-id-1 label.sk-toggleable__label-arrow:before {content: \"▸\";float: left;margin-right: 0.25em;color: #696969;}#sk-container-id-1 label.sk-toggleable__label-arrow:hover:before {color: black;}#sk-container-id-1 div.sk-estimator:hover label.sk-toggleable__label-arrow:before {color: black;}#sk-container-id-1 div.sk-toggleable__content {max-height: 0;max-width: 0;overflow: hidden;text-align: left;background-color: #f0f8ff;}#sk-container-id-1 div.sk-toggleable__content pre {margin: 0.2em;color: black;border-radius: 0.25em;background-color: #f0f8ff;}#sk-container-id-1 input.sk-toggleable__control:checked~div.sk-toggleable__content {max-height: 200px;max-width: 100%;overflow: auto;}#sk-container-id-1 input.sk-toggleable__control:checked~label.sk-toggleable__label-arrow:before {content: \"▾\";}#sk-container-id-1 div.sk-estimator input.sk-toggleable__control:checked~label.sk-toggleable__label {background-color: #d4ebff;}#sk-container-id-1 div.sk-label input.sk-toggleable__control:checked~label.sk-toggleable__label {background-color: #d4ebff;}#sk-container-id-1 input.sk-hidden--visually {border: 0;clip: rect(1px 1px 1px 1px);clip: rect(1px, 1px, 1px, 1px);height: 1px;margin: -1px;overflow: hidden;padding: 0;position: absolute;width: 1px;}#sk-container-id-1 div.sk-estimator {font-family: monospace;background-color: #f0f8ff;border: 1px dotted black;border-radius: 0.25em;box-sizing: border-box;margin-bottom: 0.5em;}#sk-container-id-1 div.sk-estimator:hover {background-color: #d4ebff;}#sk-container-id-1 div.sk-parallel-item::after {content: \"\";width: 100%;border-bottom: 1px solid gray;flex-grow: 1;}#sk-container-id-1 div.sk-label:hover label.sk-toggleable__label {background-color: #d4ebff;}#sk-container-id-1 div.sk-serial::before {content: \"\";position: absolute;border-left: 1px solid gray;box-sizing: border-box;top: 0;bottom: 0;left: 50%;z-index: 0;}#sk-container-id-1 div.sk-serial {display: flex;flex-direction: column;align-items: center;background-color: white;padding-right: 0.2em;padding-left: 0.2em;position: relative;}#sk-container-id-1 div.sk-item {position: relative;z-index: 1;}#sk-container-id-1 div.sk-parallel {display: flex;align-items: stretch;justify-content: center;background-color: white;position: relative;}#sk-container-id-1 div.sk-item::before, #sk-container-id-1 div.sk-parallel-item::before {content: \"\";position: absolute;border-left: 1px solid gray;box-sizing: border-box;top: 0;bottom: 0;left: 50%;z-index: -1;}#sk-container-id-1 div.sk-parallel-item {display: flex;flex-direction: column;z-index: 1;position: relative;background-color: white;}#sk-container-id-1 div.sk-parallel-item:first-child::after {align-self: flex-end;width: 50%;}#sk-container-id-1 div.sk-parallel-item:last-child::after {align-self: flex-start;width: 50%;}#sk-container-id-1 div.sk-parallel-item:only-child::after {width: 0;}#sk-container-id-1 div.sk-dashed-wrapped {border: 1px dashed gray;margin: 0 0.4em 0.5em 0.4em;box-sizing: border-box;padding-bottom: 0.4em;background-color: white;}#sk-container-id-1 div.sk-label label {font-family: monospace;font-weight: bold;display: inline-block;line-height: 1.2em;}#sk-container-id-1 div.sk-label-container {text-align: center;}#sk-container-id-1 div.sk-container {/* jupyter's `normalize.less` sets `[hidden] { display: none; }` but bootstrap.min.css set `[hidden] { display: none !important; }` so we also need the `!important` here to be able to override the default hidden behavior on the sphinx rendered scikit-learn.org. See: https://github.com/scikit-learn/scikit-learn/issues/21755 */display: inline-block !important;position: relative;}#sk-container-id-1 div.sk-text-repr-fallback {display: none;}</style><div id=\"sk-container-id-1\" class=\"sk-top-container\"><div class=\"sk-text-repr-fallback\"><pre>DecisionTreeClassifier()</pre><b>In a Jupyter environment, please rerun this cell to show the HTML representation or trust the notebook. <br />On GitHub, the HTML representation is unable to render, please try loading this page with nbviewer.org.</b></div><div class=\"sk-container\" hidden><div class=\"sk-item\"><div class=\"sk-estimator sk-toggleable\"><input class=\"sk-toggleable__control sk-hidden--visually\" id=\"sk-estimator-id-1\" type=\"checkbox\" checked><label for=\"sk-estimator-id-1\" class=\"sk-toggleable__label sk-toggleable__label-arrow\">DecisionTreeClassifier</label><div class=\"sk-toggleable__content\"><pre>DecisionTreeClassifier()</pre></div></div></div></div></div>"
      ],
      "text/plain": [
       "DecisionTreeClassifier()"
      ]
     },
     "execution_count": 13,
     "metadata": {},
     "output_type": "execute_result"
    }
   ],
   "source": [
    "#Decision Tree\n",
    "dt=DecisionTreeClassifier()\n",
    "dt.fit(TrainX,TrainY)"
   ]
  },
  {
   "cell_type": "code",
   "execution_count": 14,
   "id": "74273a17",
   "metadata": {},
   "outputs": [
    {
     "data": {
      "text/html": [
       "<style>#sk-container-id-2 {color: black;background-color: white;}#sk-container-id-2 pre{padding: 0;}#sk-container-id-2 div.sk-toggleable {background-color: white;}#sk-container-id-2 label.sk-toggleable__label {cursor: pointer;display: block;width: 100%;margin-bottom: 0;padding: 0.3em;box-sizing: border-box;text-align: center;}#sk-container-id-2 label.sk-toggleable__label-arrow:before {content: \"▸\";float: left;margin-right: 0.25em;color: #696969;}#sk-container-id-2 label.sk-toggleable__label-arrow:hover:before {color: black;}#sk-container-id-2 div.sk-estimator:hover label.sk-toggleable__label-arrow:before {color: black;}#sk-container-id-2 div.sk-toggleable__content {max-height: 0;max-width: 0;overflow: hidden;text-align: left;background-color: #f0f8ff;}#sk-container-id-2 div.sk-toggleable__content pre {margin: 0.2em;color: black;border-radius: 0.25em;background-color: #f0f8ff;}#sk-container-id-2 input.sk-toggleable__control:checked~div.sk-toggleable__content {max-height: 200px;max-width: 100%;overflow: auto;}#sk-container-id-2 input.sk-toggleable__control:checked~label.sk-toggleable__label-arrow:before {content: \"▾\";}#sk-container-id-2 div.sk-estimator input.sk-toggleable__control:checked~label.sk-toggleable__label {background-color: #d4ebff;}#sk-container-id-2 div.sk-label input.sk-toggleable__control:checked~label.sk-toggleable__label {background-color: #d4ebff;}#sk-container-id-2 input.sk-hidden--visually {border: 0;clip: rect(1px 1px 1px 1px);clip: rect(1px, 1px, 1px, 1px);height: 1px;margin: -1px;overflow: hidden;padding: 0;position: absolute;width: 1px;}#sk-container-id-2 div.sk-estimator {font-family: monospace;background-color: #f0f8ff;border: 1px dotted black;border-radius: 0.25em;box-sizing: border-box;margin-bottom: 0.5em;}#sk-container-id-2 div.sk-estimator:hover {background-color: #d4ebff;}#sk-container-id-2 div.sk-parallel-item::after {content: \"\";width: 100%;border-bottom: 1px solid gray;flex-grow: 1;}#sk-container-id-2 div.sk-label:hover label.sk-toggleable__label {background-color: #d4ebff;}#sk-container-id-2 div.sk-serial::before {content: \"\";position: absolute;border-left: 1px solid gray;box-sizing: border-box;top: 0;bottom: 0;left: 50%;z-index: 0;}#sk-container-id-2 div.sk-serial {display: flex;flex-direction: column;align-items: center;background-color: white;padding-right: 0.2em;padding-left: 0.2em;position: relative;}#sk-container-id-2 div.sk-item {position: relative;z-index: 1;}#sk-container-id-2 div.sk-parallel {display: flex;align-items: stretch;justify-content: center;background-color: white;position: relative;}#sk-container-id-2 div.sk-item::before, #sk-container-id-2 div.sk-parallel-item::before {content: \"\";position: absolute;border-left: 1px solid gray;box-sizing: border-box;top: 0;bottom: 0;left: 50%;z-index: -1;}#sk-container-id-2 div.sk-parallel-item {display: flex;flex-direction: column;z-index: 1;position: relative;background-color: white;}#sk-container-id-2 div.sk-parallel-item:first-child::after {align-self: flex-end;width: 50%;}#sk-container-id-2 div.sk-parallel-item:last-child::after {align-self: flex-start;width: 50%;}#sk-container-id-2 div.sk-parallel-item:only-child::after {width: 0;}#sk-container-id-2 div.sk-dashed-wrapped {border: 1px dashed gray;margin: 0 0.4em 0.5em 0.4em;box-sizing: border-box;padding-bottom: 0.4em;background-color: white;}#sk-container-id-2 div.sk-label label {font-family: monospace;font-weight: bold;display: inline-block;line-height: 1.2em;}#sk-container-id-2 div.sk-label-container {text-align: center;}#sk-container-id-2 div.sk-container {/* jupyter's `normalize.less` sets `[hidden] { display: none; }` but bootstrap.min.css set `[hidden] { display: none !important; }` so we also need the `!important` here to be able to override the default hidden behavior on the sphinx rendered scikit-learn.org. See: https://github.com/scikit-learn/scikit-learn/issues/21755 */display: inline-block !important;position: relative;}#sk-container-id-2 div.sk-text-repr-fallback {display: none;}</style><div id=\"sk-container-id-2\" class=\"sk-top-container\"><div class=\"sk-text-repr-fallback\"><pre>RandomForestClassifier()</pre><b>In a Jupyter environment, please rerun this cell to show the HTML representation or trust the notebook. <br />On GitHub, the HTML representation is unable to render, please try loading this page with nbviewer.org.</b></div><div class=\"sk-container\" hidden><div class=\"sk-item\"><div class=\"sk-estimator sk-toggleable\"><input class=\"sk-toggleable__control sk-hidden--visually\" id=\"sk-estimator-id-2\" type=\"checkbox\" checked><label for=\"sk-estimator-id-2\" class=\"sk-toggleable__label sk-toggleable__label-arrow\">RandomForestClassifier</label><div class=\"sk-toggleable__content\"><pre>RandomForestClassifier()</pre></div></div></div></div></div>"
      ],
      "text/plain": [
       "RandomForestClassifier()"
      ]
     },
     "execution_count": 14,
     "metadata": {},
     "output_type": "execute_result"
    }
   ],
   "source": [
    "# Random Forest\n",
    "rt=RandomForestClassifier()\n",
    "rt.fit(TrainX,TrainY)"
   ]
  },
  {
   "cell_type": "markdown",
   "id": "c044f1b8",
   "metadata": {},
   "source": [
    "[Go Back](#goback)"
   ]
  },
  {
   "cell_type": "markdown",
   "id": "6cf4a0e6",
   "metadata": {},
   "source": [
    " ## Evaluating Default Models <a id=\"evaluate\">\n",
    "Training file taking as TrainDataset <br>\n",
    "Testing file taking as TestDataset as Y(Target) is given"
   ]
  },
  {
   "cell_type": "code",
   "execution_count": 15,
   "id": "0b3fa622",
   "metadata": {},
   "outputs": [
    {
     "name": "stdout",
     "output_type": "stream",
     "text": [
      "Training Data Accuracy: 1.0\n",
      "\n",
      "Testing Data Accuracy:\n",
      " 0.8831862517417557 \n",
      "Testing_Class_Report:\n",
      "               precision    recall  f1-score   support\n",
      "\n",
      "          No       1.00      0.88      0.94     12420\n",
      "         Yes       0.23      0.89      0.37       498\n",
      "\n",
      "    accuracy                           0.88     12918\n",
      "   macro avg       0.61      0.89      0.65     12918\n",
      "weighted avg       0.97      0.88      0.91     12918\n",
      " \n",
      "Testing_Confusion_Matrix:\n",
      " [[10965  1455]\n",
      " [   54   444]]\n"
     ]
    }
   ],
   "source": [
    "evaluate_model(dt,TrainX,TrainY,TestX,TestY)"
   ]
  },
  {
   "cell_type": "code",
   "execution_count": 16,
   "id": "21312d1e",
   "metadata": {},
   "outputs": [
    {
     "name": "stdout",
     "output_type": "stream",
     "text": [
      "Training Data Accuracy: 1.0\n",
      "\n",
      "Testing Data Accuracy:\n",
      " 0.9633844248335656 \n",
      "Testing_Class_Report:\n",
      "               precision    recall  f1-score   support\n",
      "\n",
      "          No       0.99      0.97      0.98     12420\n",
      "         Yes       0.52      0.85      0.64       498\n",
      "\n",
      "    accuracy                           0.96     12918\n",
      "   macro avg       0.75      0.91      0.81     12918\n",
      "weighted avg       0.98      0.96      0.97     12918\n",
      " \n",
      "Testing_Confusion_Matrix:\n",
      " [[12023   397]\n",
      " [   76   422]]\n"
     ]
    }
   ],
   "source": [
    "evaluate_model(rt,TrainX,TrainY,TestX,TestY)"
   ]
  },
  {
   "cell_type": "markdown",
   "id": "bedca73f",
   "metadata": {},
   "source": [
    "[Go Back](#goback)"
   ]
  },
  {
   "cell_type": "markdown",
   "id": "6fd84eb1",
   "metadata": {},
   "source": [
    "## Hyperparameter Tuning  <a id=\"hyper\">"
   ]
  },
  {
   "cell_type": "markdown",
   "id": "063a36d5",
   "metadata": {},
   "source": [
    "### Grid Search CV  <a id=\"grid\">"
   ]
  },
  {
   "cell_type": "code",
   "execution_count": 18,
   "id": "9f8bab6c",
   "metadata": {},
   "outputs": [
    {
     "name": "stdout",
     "output_type": "stream",
     "text": [
      "Best set of parameters for dt:  {'criterion': 'entropy', 'max_depth': 5, 'min_samples_leaf': 30} \n",
      "Best Score :  0.8869610461880914\n",
      "\n",
      "===============================================================================================================\n",
      "\n",
      "Best set of parameters for rt: {'criterion': 'gini', 'max_depth': 15, 'min_samples_leaf': 10, 'n_estimators': 50} \n",
      "Best score:  0.8746243739565942\n",
      "CPU times: total: 20min 34s\n",
      "Wall time: 20min 42s\n"
     ]
    }
   ],
   "source": [
    "%%time\n",
    "# GridSearchCV : Exhaustive Approach\n",
    "\n",
    "from sklearn.model_selection import GridSearchCV\n",
    "\n",
    "#Decision Tree\n",
    "dt_para_set={'criterion':['gini','entropy'],\n",
    "         'max_depth':range(5,30,5),\n",
    "         'min_samples_leaf':range(10,300,10)}\n",
    "\n",
    "\n",
    "dt_GridSearchCV=GridSearchCV(dt,dt_para_set)\n",
    "dt_GridSearchCV.fit(TrainX,TrainY)\n",
    "print(\"Best set of parameters for dt: \",dt_GridSearchCV.best_params_,\n",
    "      \"\\nBest Score : \",dt_GridSearchCV.best_score_)\n",
    "\n",
    "print()\n",
    "print(\"===============================================================================================================\")\n",
    "print()\n",
    "\n",
    "#Random Forest\n",
    "rt_para_set={'n_estimators':range(50,200,50),\n",
    "            'criterion':['entropy','gini','log_loss'],\n",
    "            'max_depth':range(5,30,5),\n",
    "            'min_samples_leaf':range(10,300,10)}\n",
    "rt_GridSearchCV=GridSearchCV(rt,rt_para_set)\n",
    "rt_GridSearchCV.fit(TrainX,TrainY)\n",
    "print('Best set of parameters for rt:',rt_GridSearchCV.best_params_,\n",
    "     '\\nBest score: ',rt_GridSearchCV.best_score_)"
   ]
  },
  {
   "cell_type": "code",
   "execution_count": 19,
   "id": "52508445",
   "metadata": {},
   "outputs": [
    {
     "name": "stdout",
     "output_type": "stream",
     "text": [
      "Decision Tree Test Accuracy:  0.8773803994426381\n",
      "RandomForest Test Accuracy: 0.9563399907106364\n"
     ]
    }
   ],
   "source": [
    "#Grid CV Test Accuracy for Decision Tree and Random Forest\n",
    "print('Decision Tree Test Accuracy: ',dt_GridSearchCV.score(TestX,TestY))\n",
    "print('RandomForest Test Accuracy:',rt_GridSearchCV.score(TestX,TestY))"
   ]
  },
  {
   "cell_type": "markdown",
   "id": "d48bca9d",
   "metadata": {},
   "source": [
    "[Go Back](#goback)"
   ]
  },
  {
   "cell_type": "markdown",
   "id": "dfe92e7c",
   "metadata": {},
   "source": [
    "### Random Search CV <a id=\"random\">"
   ]
  },
  {
   "cell_type": "code",
   "execution_count": 20,
   "id": "b483fbd8",
   "metadata": {},
   "outputs": [
    {
     "name": "stdout",
     "output_type": "stream",
     "text": [
      "Best set of parameters for dt:  {'min_samples_leaf': 50, 'max_depth': 10, 'criterion': 'entropy'} \n",
      "Best Score :  0.885962715637173\n",
      "\n",
      "\n",
      "Best set of parameters for rt:  {'n_estimators': 150, 'min_samples_leaf': 100, 'max_depth': 25, 'criterion': 'log_loss'} \n",
      "Best Score :  0.8669560378408459\n",
      "CPU times: total: 6.61 s\n",
      "Wall time: 6.64 s\n"
     ]
    }
   ],
   "source": [
    "%%time\n",
    "# RandomizedSearchCV : Randomized Approach\n",
    "\n",
    "from sklearn.model_selection import RandomizedSearchCV\n",
    "\n",
    "#Decision Tree\n",
    "dt_RandomizedSearchCV=RandomizedSearchCV(dt,dt_para_set)\n",
    "dt_RandomizedSearchCV.fit(TrainX,TrainY)\n",
    "print(\"Best set of parameters for dt: \",dt_RandomizedSearchCV.best_params_,\n",
    "      \"\\nBest Score : \",dt_RandomizedSearchCV.best_score_)\n",
    "\n",
    "print()\n",
    "print()\n",
    "\n",
    "#Random Forest\n",
    "rt_RandomizedSearchCV=RandomizedSearchCV(rt,rt_para_set)\n",
    "rt_RandomizedSearchCV.fit(TrainX,TrainY)\n",
    "\n",
    "print(\"Best set of parameters for rt: \",rt_RandomizedSearchCV.best_params_,\n",
    "      \"\\nBest Score : \",rt_RandomizedSearchCV.best_score_)"
   ]
  },
  {
   "cell_type": "code",
   "execution_count": 21,
   "id": "92063a3a",
   "metadata": {},
   "outputs": [
    {
     "name": "stdout",
     "output_type": "stream",
     "text": [
      "Decision Tree Test Accuracy:  0.8841151881096145\n",
      "RandomForest Test Accuracy: 0.9614491407338597\n"
     ]
    }
   ],
   "source": [
    "#Random CV Test Accuracy for Decision Tree and Random Forest\n",
    "print('Decision Tree Test Accuracy: ',dt_RandomizedSearchCV.score(TestX,TestY))\n",
    "print('RandomForest Test Accuracy:',rt_RandomizedSearchCV.score(TestX,TestY))"
   ]
  },
  {
   "cell_type": "markdown",
   "id": "07667142",
   "metadata": {},
   "source": [
    "[Go Back](#goback)"
   ]
  },
  {
   "cell_type": "markdown",
   "id": "c1e84fd0",
   "metadata": {},
   "source": [
    "## Model Development with Grid/Random Search Parameters <a id=\"modeldev\">"
   ]
  },
  {
   "cell_type": "code",
   "execution_count": 22,
   "id": "1b609ad6",
   "metadata": {},
   "outputs": [
    {
     "name": "stdout",
     "output_type": "stream",
     "text": [
      "DECISION TREE CLASSIFIER\n",
      "Using Grid Search CV \n",
      "\n",
      "Training Data Accuracy: 0.891297099033011\n",
      "\n",
      "Testing Data Accuracy:\n",
      " 0.8773803994426381 \n",
      "Testing_Class_Report:\n",
      "               precision    recall  f1-score   support\n",
      "\n",
      "          No       0.97      0.90      0.93     12420\n",
      "         Yes       0.12      0.35      0.18       498\n",
      "\n",
      "    accuracy                           0.88     12918\n",
      "   macro avg       0.55      0.62      0.56     12918\n",
      "weighted avg       0.94      0.88      0.90     12918\n",
      " \n",
      "Testing_Confusion_Matrix:\n",
      " [[11162  1258]\n",
      " [  326   172]]\n",
      "\n",
      "Cross Validation score for Random Forest with GridSearch CV parameters:  [0.74615385 0.69807692 0.54375    0.5        0.55696203]\n",
      "-------------------------------------------------------------------------------------------------\n",
      "Using Random Search CV \n",
      "\n",
      "Training Data Accuracy: 0.8916305435145049\n",
      "\n",
      "Testing Data Accuracy:\n",
      " 0.8841151881096145 \n",
      "Testing_Class_Report:\n",
      "               precision    recall  f1-score   support\n",
      "\n",
      "          No       0.97      0.91      0.94     12420\n",
      "         Yes       0.12      0.33      0.18       498\n",
      "\n",
      "    accuracy                           0.88     12918\n",
      "   macro avg       0.55      0.62      0.56     12918\n",
      "weighted avg       0.94      0.88      0.91     12918\n",
      " \n",
      "Testing_Confusion_Matrix:\n",
      " [[11255  1165]\n",
      " [  332   166]]\n",
      "\n",
      "Cross Validation score for Random Forest with GridSearch CV parameters:  [0.74615385 0.73990385 0.54375    0.5        0.57594937]\n"
     ]
    }
   ],
   "source": [
    "#Using Grid and Random Search CV parameters for modelling\n",
    "#Decision Tree\n",
    "\n",
    "dt_using_Grid=DecisionTreeClassifier(**dt_GridSearchCV.best_params_)\n",
    "dt_using_Grid.fit(TrainX,TrainY)\n",
    "dt_using_Rand=DecisionTreeClassifier(**dt_RandomizedSearchCV.best_params_)\n",
    "dt_using_Rand.fit(TrainX,TrainY)\n",
    "\n",
    "print(\"DECISION TREE CLASSIFIER\")\n",
    "print(\"Using Grid Search CV \\n\")\n",
    "evaluate_model(dt_using_Grid,TrainX,TrainY,TestX,TestY)\n",
    "cv_dt_Grid = cross_val_score(dt_using_Grid, TrainX, TrainY, cv=5, scoring=\"balanced_accuracy\")\n",
    "print(\"\\nCross Validation score for Random Forest with GridSearch CV parameters: \",cv_dt_Grid)\n",
    "print(\"-------------------------------------------------------------------------------------------------\")\n",
    "print(\"Using Random Search CV \\n\")\n",
    "evaluate_model(dt_using_Rand,TrainX,TrainY,TestX,TestY)\n",
    "cv_dt_Rand = cross_val_score(dt_using_Rand, TrainX, TrainY, cv=5, scoring=\"balanced_accuracy\")\n",
    "print(\"\\nCross Validation score for Random Forest with GridSearch CV parameters: \",cv_dt_Rand)\n"
   ]
  },
  {
   "cell_type": "code",
   "execution_count": 23,
   "id": "51d06d66",
   "metadata": {},
   "outputs": [
    {
     "name": "stdout",
     "output_type": "stream",
     "text": [
      "RANDOM FOREST CLASSIFIER\n",
      "Using Grid Search CV \n",
      "\n",
      "Training Data Accuracy: 0.8896298766255418\n",
      "\n",
      "Testing Data Accuracy:\n",
      " 0.9498374361356247 \n",
      "Testing_Class_Report:\n",
      "               precision    recall  f1-score   support\n",
      "\n",
      "          No       0.97      0.98      0.97     12420\n",
      "         Yes       0.27      0.17      0.21       498\n",
      "\n",
      "    accuracy                           0.95     12918\n",
      "   macro avg       0.62      0.58      0.59     12918\n",
      "weighted avg       0.94      0.95      0.94     12918\n",
      " \n",
      "Testing_Confusion_Matrix:\n",
      " [[12184   236]\n",
      " [  412    86]]\n",
      "\n",
      "Cross Validation score for Random Forest with GridSearch CV parameters:  [0.52403846 0.54903846 0.53125    0.5        0.53164557]\n",
      "-------------------------------------------------------------------------------------------------\n",
      "Using Random Search CV \n",
      "\n",
      "Training Data Accuracy: 0.8669556518839613\n",
      "\n",
      "Testing Data Accuracy:\n",
      " 0.9614491407338597 \n",
      "Testing_Class_Report:\n",
      "               precision    recall  f1-score   support\n",
      "\n",
      "          No       0.96      1.00      0.98     12420\n",
      "         Yes       0.00      0.00      0.00       498\n",
      "\n",
      "    accuracy                           0.96     12918\n",
      "   macro avg       0.48      0.50      0.49     12918\n",
      "weighted avg       0.92      0.96      0.94     12918\n",
      " \n",
      "Testing_Confusion_Matrix:\n",
      " [[12420     0]\n",
      " [  498     0]]\n",
      "\n",
      "Cross Validation score for Random Forest with RandomSearch CV parameters:  [0.5 0.5 0.5 0.5 0.5]\n"
     ]
    }
   ],
   "source": [
    "#Using Grid and Random Search CV parameters for modelling\n",
    "#Random Forest\n",
    "rt_using_Grid=RandomForestClassifier(**rt_GridSearchCV.best_params_)\n",
    "rt_using_Grid.fit(TrainX,TrainY)\n",
    "rt_using_Rand=RandomForestClassifier(**rt_RandomizedSearchCV.best_params_)\n",
    "rt_using_Rand.fit(TrainX,TrainY)\n",
    "\n",
    "print(\"RANDOM FOREST CLASSIFIER\")\n",
    "print(\"Using Grid Search CV \\n\")\n",
    "evaluate_model(rt_using_Grid,TrainX,TrainY,TestX,TestY)\n",
    "cv_rt_Grid = cross_val_score(rt_using_Grid, TrainX, TrainY, cv=5, scoring=\"balanced_accuracy\")\n",
    "print(\"\\nCross Validation score for Random Forest with GridSearch CV parameters: \",cv_rt_Grid)\n",
    "print(\"-------------------------------------------------------------------------------------------------\")\n",
    "print(\"Using Random Search CV \\n\")\n",
    "evaluate_model(rt_using_Rand,TrainX,TrainY,TestX,TestY)\n",
    "cv_rt_Rand = cross_val_score(rt_using_Rand, TrainX, TrainY, cv=5, scoring=\"balanced_accuracy\")\n",
    "print(\"\\nCross Validation score for Random Forest with RandomSearch CV parameters: \",cv_rt_Rand)"
   ]
  },
  {
   "cell_type": "markdown",
   "id": "9c6b4cbd",
   "metadata": {},
   "source": [
    "[Go Back](#goback)"
   ]
  },
  {
   "cell_type": "code",
   "execution_count": 24,
   "id": "11297358",
   "metadata": {},
   "outputs": [
    {
     "data": {
      "image/png": "[encoded data removed]",
      "text/plain": [
       "<Figure size 864x576 with 1 Axes>"
      ]
     },
     "metadata": {
      "needs_background": "light"
     },
     "output_type": "display_data"
    }
   ],
   "source": [
    "# Estimated ROC Curves by transforming dataset into 0,1\n",
    "Trail=TestY\n",
    "Trail=Trail.replace(to_replace=['No','Yes'],value=[0,1])\n",
    "# print(Trail)\n",
    "\n",
    "import matplotlib.pyplot as plt\n",
    "\n",
    "PredY=dt.predict_proba(TestX)[:,1]\n",
    "fpr1, tpr1, _ = metrics.roc_curve(Trail,PredY)\n",
    "\n",
    "PredY=rt.predict_proba(TestX)[:,1]\n",
    "fpr2, tpr2, _ = metrics.roc_curve(Trail,PredY)\n",
    "\n",
    "PredY=dt_using_Grid.predict_proba(TestX)[:,1]\n",
    "fpr3, tpr3, _ = metrics.roc_curve(Trail,PredY)\n",
    "\n",
    "PredY=dt_using_Rand.predict_proba(TestX)[:,1]\n",
    "fpr4, tpr4, _ = metrics.roc_curve(Trail,PredY)\n",
    "\n",
    "PredY=rt_using_Grid.predict_proba(TestX)[:,1]\n",
    "fpr5, tpr5, _ = metrics.roc_curve(Trail,PredY)\n",
    "\n",
    "PredY=rt_using_Rand.predict_proba(TestX)[:,1]\n",
    "fpr6, tpr6, _ = metrics.roc_curve(Trail,PredY)\n",
    "\n",
    "plt.figure(figsize=(12,8))\n",
    "plt.plot(fpr1, tpr1,label=\"Default decision tree\")\n",
    "plt.plot(fpr2, tpr2,label=\"Default random forest\")\n",
    "plt.plot(fpr3, tpr3,label=\"GridCV decision tree\")\n",
    "plt.plot(fpr4, tpr4,label=\"RandomizedCV decision tree\")\n",
    "plt.plot(fpr5, tpr5,label=\"GridCV random forest\")\n",
    "plt.plot(fpr6, tpr6,label=\"RandomizedCV random forest\")\n",
    "plt.xlabel('FPR')\n",
    "plt.ylabel('TPR')\n",
    "plt.title('ROC curve for multiple models')\n",
    "plt.legend()\n",
    "\n",
    "plt.show()\n"
   ]
  }
 ],
 "metadata": {
  "kernelspec": {
   "display_name": "Python 3 (ipykernel)",
   "language": "python",
   "name": "python3"
  },
  "language_info": {
   "codemirror_mode": {
    "name": "ipython",
    "version": 3
   },
   "file_extension": ".py",
   "mimetype": "text/x-python",
   "name": "python",
   "nbconvert_exporter": "python",
   "pygments_lexer": "ipython3",
   "version": "3.9.12"
  }
 },
 "nbformat": 4,
 "nbformat_minor": 5
}
